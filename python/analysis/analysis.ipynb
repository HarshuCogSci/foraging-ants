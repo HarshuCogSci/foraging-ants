{
 "cells": [
  {
   "cell_type": "code",
   "execution_count": null,
   "metadata": {},
   "outputs": [],
   "source": [
    "import os\n",
    "import pandas as pd\n",
    "import json\n",
    "import numpy as np\n",
    "import matplotlib.pyplot as plt\n",
    "import math\n",
    "from IPython.display import clear_output\n",
    "import seaborn as sns\n",
    "import math\n",
    "from collections import Counter"
   ]
  },
  {
   "cell_type": "markdown",
   "metadata": {},
   "source": [
    "### Main"
   ]
  },
  {
   "cell_type": "code",
   "execution_count": null,
   "metadata": {},
   "outputs": [],
   "source": [
    "action_legends = [\n",
    "    'Drop Home Pheromone', \n",
    "    'Drop Food Pheromone', \n",
    "    'Follow Home Pheromone', \n",
    "    'Follow Food Pheromone',\n",
    "    'Move Randomly'\n",
    "]"
   ]
  },
  {
   "cell_type": "code",
   "execution_count": null,
   "metadata": {},
   "outputs": [],
   "source": [
    "root = '../data/'\n",
    "folders = os.listdir(root)\n",
    "\n",
    "index = -1\n",
    "\n",
    "folder = folders[index]\n",
    "folder_path = root + folder + '/'"
   ]
  },
  {
   "cell_type": "markdown",
   "metadata": {},
   "source": [
    "### Read Data"
   ]
  },
  {
   "cell_type": "code",
   "execution_count": null,
   "metadata": {},
   "outputs": [],
   "source": [
    "def read_params_data(folder_path):\n",
    "    file_path = folder_path + 'params.json'\n",
    "    with open(file_path) as readFile:\n",
    "        return json.load(readFile)"
   ]
  },
  {
   "cell_type": "code",
   "execution_count": null,
   "metadata": {},
   "outputs": [],
   "source": [
    "def read_agents_data(folder_path, num_agents):\n",
    "    agents_data = {}\n",
    "    for ant in range(1, num_agents+1):\n",
    "        agents_data[ant] = pd.read_pickle(folder_path + 'agent_' + str(ant) + '.pkl')    \n",
    "    return agents_data"
   ]
  },
  {
   "cell_type": "code",
   "execution_count": null,
   "metadata": {},
   "outputs": [],
   "source": [
    "simulation_data = {}\n",
    "simulation_data['params'] = read_params_data(folder_path)"
   ]
  },
  {
   "cell_type": "code",
   "execution_count": null,
   "metadata": {},
   "outputs": [],
   "source": [
    "bin_size = 1000\n",
    "antCount = simulation_data['params']['antCount']\n",
    "actions = simulation_data['params']['actions']\n",
    "stepsCount = simulation_data['params']['stepsCount']\n",
    "num_bins = math.ceil(stepsCount / bin_size)"
   ]
  },
  {
   "cell_type": "code",
   "execution_count": null,
   "metadata": {},
   "outputs": [],
   "source": [
    "simulation_data['agents'] = read_agents_data(folder_path, antCount)"
   ]
  },
  {
   "cell_type": "markdown",
   "metadata": {},
   "source": [
    "### Bin Data"
   ]
  },
  {
   "cell_type": "code",
   "execution_count": null,
   "metadata": {},
   "outputs": [],
   "source": [
    "def generate_chunks(seq, size):\n",
    "    for pos in range(0, len(seq), size):\n",
    "        yield seq.iloc[pos:pos+size]"
   ]
  },
  {
   "cell_type": "code",
   "execution_count": null,
   "metadata": {},
   "outputs": [],
   "source": [
    "def create_binned_actions(agent_df, actions, bin_size, num_bins):\n",
    "    actions_df = agent_df.filter(['action'])\n",
    "\n",
    "    binned_actions = {}\n",
    "    for i in actions:\n",
    "        binned_actions[i] = []\n",
    "    \n",
    "    for chunk in generate_chunks(actions_df, bin_size):\n",
    "        action_count = chunk['action'].value_counts()\n",
    "    \n",
    "        for action in actions:\n",
    "            try:\n",
    "                binned_actions[action].append(action_count[action])\n",
    "            except:\n",
    "                binned_actions[action].append(0)\n",
    "    \n",
    "    for action in actions:\n",
    "        binned_actions[i] = np.array(binned_actions[i])\n",
    "    \n",
    "    return binned_actions"
   ]
  },
  {
   "cell_type": "code",
   "execution_count": null,
   "metadata": {},
   "outputs": [],
   "source": [
    "def create_binned_trips(agent_df, bin_size, num_bins):\n",
    "    trips_df = agent_df.filter(['tripCompleted'])\n",
    "    \n",
    "    binned_trips = []\n",
    "\n",
    "    for chunk in generate_chunks(trips_df, bin_size):\n",
    "        trips_count = chunk['tripCompleted'].value_counts()\n",
    "    \n",
    "        try:\n",
    "            binned_trips.append(trips_count[1])\n",
    "        except:\n",
    "            binned_trips.append(0)\n",
    "    \n",
    "    return np.array(binned_trips)"
   ]
  },
  {
   "cell_type": "code",
   "execution_count": null,
   "metadata": {},
   "outputs": [],
   "source": [
    "simulation_data['binned_actions'] = {}\n",
    "simulation_data['binned_trips'] = {}\n",
    "simulation_data['binned_epsilon'] = {}\n",
    "\n",
    "for ant in range(1, antCount+1):\n",
    "    simulation_data['binned_actions'][ant] = create_binned_actions(simulation_data['agents'][ant], actions, bin_size, num_bins)\n",
    "    simulation_data['binned_trips'][ant] = create_binned_trips(simulation_data['agents'][ant], bin_size, num_bins)"
   ]
  },
  {
   "cell_type": "code",
   "execution_count": null,
   "metadata": {},
   "outputs": [],
   "source": [
    "simulation_data['total_binned_actions'] = {}\n",
    "\n",
    "for action in actions:\n",
    "    simulation_data['total_binned_actions'][action] = np.zeros(num_bins)\n",
    "\n",
    "simulation_data['total_binned_trips'] = np.zeros(num_bins)"
   ]
  },
  {
   "cell_type": "code",
   "execution_count": null,
   "metadata": {},
   "outputs": [],
   "source": [
    "for ant in range(1, antCount+1):\n",
    "    for action in actions:\n",
    "        simulation_data['total_binned_actions'][action] += simulation_data['binned_actions'][ant][action]\n",
    "        simulation_data['total_binned_trips'] += simulation_data['binned_trips'][ant]"
   ]
  },
  {
   "cell_type": "markdown",
   "metadata": {},
   "source": [
    "### Create Plots"
   ]
  },
  {
   "cell_type": "code",
   "execution_count": null,
   "metadata": {},
   "outputs": [],
   "source": [
    "def create_plot(binned_actions, binned_trips, actions, agent):\n",
    "    fig, axes = plt.subplots(2, 1, figsize = (10,10))\n",
    "\n",
    "    x = np.array(range( len(binned_trips) )) * bin_size\n",
    "    y_actions = []\n",
    "    for action in actions:\n",
    "        y_actions.append( binned_actions[action] )\n",
    "\n",
    "    axes[0].stackplot(x, y_actions, labels = action_legends)\n",
    "    axes[0].title.set_text('Actions of agent '+str(agent))\n",
    "    axes[0].legend(loc='upper left')\n",
    "\n",
    "    y_trips = binned_trips\n",
    "    \n",
    "    axes[1].plot(x, y_trips, label ='Successful trips per agent for ' +str(bin_size)+ ' time steps')\n",
    "    axes[1].title.set_text('Successful trips of agent '+str(agent))\n",
    "    axes[1].legend(loc='upper left')\n",
    "    \n",
    "    fig.tight_layout()\n",
    "    fig.savefig(root + folder + '/' +folder+ '_agent_' + str(agent) + '.jpg', bbox_inches='tight', dpi=250)"
   ]
  },
  {
   "cell_type": "code",
   "execution_count": null,
   "metadata": {},
   "outputs": [],
   "source": [
    "# for ant in range(1, antCount+1):\n",
    "#     create_plot(\n",
    "#         simulation_data['binned_actions'][ant], \n",
    "#         simulation_data['binned_trips'][ant], \n",
    "#         actions, \n",
    "#         ant\n",
    "#     )\n",
    "\n",
    "# create_plot(\n",
    "#     simulation_data['total_binned_actions'], \n",
    "#     simulation_data['total_binned_trips'], \n",
    "#     actions, \n",
    "#     'total'\n",
    "# )\n",
    "\n",
    "# clear_output()"
   ]
  },
  {
   "cell_type": "markdown",
   "metadata": {},
   "source": [
    "### Pair Plots"
   ]
  },
  {
   "cell_type": "code",
   "execution_count": null,
   "metadata": {},
   "outputs": [],
   "source": [
    "def create_pair_plots(simulation_data):\n",
    "    df = pd.DataFrame({\n",
    "        'trips': simulation_data['total_binned_trips'],\n",
    "        'Drop Home Pheromone': simulation_data['total_binned_actions'][0],\n",
    "        'Drop Food Pheromone': simulation_data['total_binned_actions'][1],\n",
    "        'Follow Home Pheromone': simulation_data['total_binned_actions'][2],\n",
    "        'Follow Food Pheromone': simulation_data['total_binned_actions'][3],\n",
    "        'Move Randomly': simulation_data['total_binned_actions'][4],\n",
    "    })\n",
    "    \n",
    "    fig = plt.figure()\n",
    "    \n",
    "    sns.set_theme(style=\"ticks\")\n",
    "    sns_plot = sns.pairplot(df, corner=False, kind='kde')\n",
    "    \n",
    "    sns_plot.savefig(root + folder + '/' +folder+ '_pairplot.jpg', bbox_inches='tight', dpi=250)"
   ]
  },
  {
   "cell_type": "code",
   "execution_count": null,
   "metadata": {},
   "outputs": [],
   "source": [
    "# create_pair_plots(simulation_data)\n",
    "# clear_output()"
   ]
  },
  {
   "cell_type": "markdown",
   "metadata": {},
   "source": [
    "### Pearson Correlation Coeffecient"
   ]
  },
  {
   "cell_type": "code",
   "execution_count": null,
   "metadata": {},
   "outputs": [],
   "source": [
    "def pearson_correlation(independent, dependent):\n",
    "    # covariance\n",
    "    independent_mean = _arithmetic_mean(independent)\n",
    "    dependent_mean = _arithmetic_mean(dependent)\n",
    "    products_mean = _mean_of_products(independent, dependent)\n",
    "    covariance = products_mean - (independent_mean * dependent_mean)\n",
    "\n",
    "    # standard deviations of independent values\n",
    "    independent_standard_deviation = _standard_deviation(independent)\n",
    "\n",
    "    # standard deviations of dependent values\n",
    "    dependent_standard_deviation = _standard_deviation(dependent)\n",
    "\n",
    "    # Pearson Correlation Coefficient\n",
    "    rho = covariance / (independent_standard_deviation * dependent_standard_deviation)\n",
    "\n",
    "    return rho\n",
    "\n",
    "def  _arithmetic_mean(data):\n",
    "    total = 0\n",
    "    for i in data:\n",
    "        total+= float(i)\n",
    "    return total / len(data)\n",
    "\n",
    "def  _mean_of_products(data1, data2):\n",
    "    total = 0\n",
    "    for i in range(0, len(data1)):\n",
    "        total += (data1[i] * data2[i])\n",
    "    return total / len(data1)\n",
    "\n",
    "def  _standard_deviation(data):\n",
    "    squares = []\n",
    "\n",
    "    for i in data:\n",
    "        squares.append(i ** 2)\n",
    "\n",
    "    mean_of_squares = _arithmetic_mean(squares)\n",
    "    mean_of_data = _arithmetic_mean(data)\n",
    "    square_of_mean = mean_of_data ** 2\n",
    "    variance = mean_of_squares - square_of_mean\n",
    "    std_dev = math.sqrt(variance)\n",
    "\n",
    "    return std_dev "
   ]
  },
  {
   "cell_type": "code",
   "execution_count": null,
   "metadata": {},
   "outputs": [],
   "source": [
    "# for i in range(5):\n",
    "#     independent = simulation_data['total_binned_actions'][i]\n",
    "#     dependent = simulation_data['total_binned_trips']\n",
    "#     rho = pearson_correlation(independent, dependent)\n",
    "#     print(\"Correlation for trips with action \"+str(i)+\" = %1.2f\\n\" %rho)"
   ]
  },
  {
   "cell_type": "markdown",
   "metadata": {},
   "source": [
    "### Transition Matrix"
   ]
  },
  {
   "cell_type": "code",
   "execution_count": null,
   "metadata": {},
   "outputs": [],
   "source": [
    "def caluculate_transition_matrix(actions, label):\n",
    "    a = actions\n",
    "    b = np.zeros((5,5), dtype='int32')\n",
    "\n",
    "    for i in range(len(a)-1):\n",
    "        b[a[i]][a[i+1]] += 1\n",
    "\n",
    "#     for (x,y), c in Counter(zip(a, a[1:])).items():\n",
    "#         b[int(x-1),int(y-1)] = c\n",
    "\n",
    "    fig = plt.figure()\n",
    "\n",
    "    sns_plot = sns.heatmap(b, cmap=\"YlGnBu\", linewidths=1.5, annot=True, fmt=\"d\")\n",
    "    plt.title(label)\n",
    "    \n",
    "    figure = sns_plot.get_figure()    \n",
    "    figure.savefig(root + folder + '/' +folder+ '_' +label+ '_transition.jpg', bbox_inches='tight', dpi=250)"
   ]
  },
  {
   "cell_type": "code",
   "execution_count": null,
   "metadata": {},
   "outputs": [],
   "source": [
    "for ant in range(1, antCount+1):\n",
    "    actions_list = simulation_data['agents'][ant].loc[100000:, 'action'].tolist()\n",
    "    caluculate_transition_matrix(actions_list, 'agent_'+str(ant))\n",
    "\n",
    "clear_output()"
   ]
  }
 ],
 "metadata": {
  "kernelspec": {
   "display_name": "Python 3",
   "language": "python",
   "name": "python3"
  },
  "language_info": {
   "codemirror_mode": {
    "name": "ipython",
    "version": 3
   },
   "file_extension": ".py",
   "mimetype": "text/x-python",
   "name": "python",
   "nbconvert_exporter": "python",
   "pygments_lexer": "ipython3",
   "version": "3.7.9"
  }
 },
 "nbformat": 4,
 "nbformat_minor": 2
}
