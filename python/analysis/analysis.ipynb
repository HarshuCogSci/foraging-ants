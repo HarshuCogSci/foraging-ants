{
 "cells": [
  {
   "cell_type": "code",
   "execution_count": null,
   "metadata": {},
   "outputs": [],
   "source": [
    "import os\n",
    "import pandas as pd\n",
    "import json\n",
    "import numpy as np\n",
    "import matplotlib.pyplot as plt"
   ]
  },
  {
   "cell_type": "code",
   "execution_count": null,
   "metadata": {},
   "outputs": [],
   "source": [
    "root = '../data/'\n",
    "folders = os.listdir(root)\n",
    "folder = folders[-1]"
   ]
  },
  {
   "cell_type": "code",
   "execution_count": null,
   "metadata": {},
   "outputs": [],
   "source": [
    "# homePher_df = pd.read_pickle(root + folder + '/world_home_pheromone.pkl')\n",
    "# foodPher_df = pd.read_pickle(root + folder + '/world_food_pheromone.pkl')\n",
    "\n",
    "agent_dfs = []\n",
    "for i in range(1, 11):\n",
    "    agent_dfs.append( pd.read_pickle(root + folder + '/agent_' + str(i) + '.pkl') )"
   ]
  },
  {
   "cell_type": "code",
   "execution_count": null,
   "metadata": {},
   "outputs": [],
   "source": [
    "def generate_chunks(seq, size):\n",
    "    for pos in range(0, len(seq), size):\n",
    "        yield seq.iloc[pos:pos+size]"
   ]
  },
  {
   "cell_type": "code",
   "execution_count": null,
   "metadata": {},
   "outputs": [],
   "source": [
    "actions_df = agent_dfs[1].filter(['action'])\n",
    "action_array = [[] for i in range(5)]\n",
    "\n",
    "for chunk in generate_chunks(actions_df, 100):\n",
    "    action_count = chunk['action'].value_counts()\n",
    "    \n",
    "    for action in range(5):\n",
    "        try:\n",
    "            action_array[action].append(action_count[action])\n",
    "        except:\n",
    "            action_array[action].append(0)"
   ]
  },
  {
   "cell_type": "code",
   "execution_count": null,
   "metadata": {},
   "outputs": [],
   "source": [
    "x = range( len(action_array[0]) )\n",
    "y = action_array\n",
    "\n",
    "plt.stackplot(x, y, labels=['Action 1','Action 2','Action 3','Action 4','Action 5'])\n",
    "plt.legend(loc='upper left')"
   ]
  }
 ],
 "metadata": {
  "kernelspec": {
   "display_name": "Python 3",
   "language": "python",
   "name": "python3"
  },
  "language_info": {
   "codemirror_mode": {
    "name": "ipython",
    "version": 3
   },
   "file_extension": ".py",
   "mimetype": "text/x-python",
   "name": "python",
   "nbconvert_exporter": "python",
   "pygments_lexer": "ipython3",
   "version": "3.7.3"
  }
 },
 "nbformat": 4,
 "nbformat_minor": 2
}
