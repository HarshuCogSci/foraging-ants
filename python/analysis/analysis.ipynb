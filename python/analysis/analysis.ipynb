{
 "cells": [
  {
   "cell_type": "code",
   "execution_count": null,
   "metadata": {},
   "outputs": [],
   "source": [
    "import os\n",
    "import pandas as pd\n",
    "import json\n",
    "import numpy as np\n",
    "import matplotlib.pyplot as plt\n",
    "import math\n",
    "from IPython.display import clear_output"
   ]
  },
  {
   "cell_type": "markdown",
   "metadata": {},
   "source": [
    "#### Reading Data Functions"
   ]
  },
  {
   "cell_type": "code",
   "execution_count": null,
   "metadata": {},
   "outputs": [],
   "source": [
    "def read_params_data(folder_path):\n",
    "    file_path = folder_path + 'params.json'\n",
    "    with open(file_path) as readFile:\n",
    "        return json.load(readFile)"
   ]
  },
  {
   "cell_type": "code",
   "execution_count": null,
   "metadata": {},
   "outputs": [],
   "source": [
    "def read_agents_data(folder_path, num_agents):\n",
    "    agents_data = {}\n",
    "    for ant in range(1, num_agents+1):\n",
    "        agents_data[ant] = pd.read_pickle(folder_path + 'agent_' + str(ant) + '.pkl')    \n",
    "    return agents_data"
   ]
  },
  {
   "cell_type": "markdown",
   "metadata": {},
   "source": [
    "#### Binning Data Functions"
   ]
  },
  {
   "cell_type": "code",
   "execution_count": null,
   "metadata": {},
   "outputs": [],
   "source": [
    "def generate_chunks(seq, size):\n",
    "    for pos in range(0, len(seq), size):\n",
    "        yield seq.iloc[pos:pos+size]"
   ]
  },
  {
   "cell_type": "code",
   "execution_count": null,
   "metadata": {},
   "outputs": [],
   "source": [
    "def create_binned_actions(agent_df, actions, bin_size, num_bins):\n",
    "    actions_df = agent_df.filter(['action'])\n",
    "\n",
    "    binned_actions = {}\n",
    "    for i in actions:\n",
    "        binned_actions[i] = []\n",
    "    \n",
    "    for chunk in generate_chunks(actions_df, bin_size):\n",
    "        action_count = chunk['action'].value_counts()\n",
    "    \n",
    "        for action in actions:\n",
    "            try:\n",
    "                binned_actions[action].append(action_count[action])\n",
    "            except:\n",
    "                binned_actions[action].append(0)\n",
    "    \n",
    "    for action in actions:\n",
    "        binned_actions[i] = np.array(binned_actions[i])\n",
    "    \n",
    "    return binned_actions"
   ]
  },
  {
   "cell_type": "code",
   "execution_count": null,
   "metadata": {},
   "outputs": [],
   "source": [
    "def create_binned_trips(agent_df, bin_size, num_bins):\n",
    "    trips_df = agent_df.filter(['tripCompleted'])\n",
    "    \n",
    "    binned_trips = []\n",
    "\n",
    "    for chunk in generate_chunks(trips_df, bin_size):\n",
    "        trips_count = chunk['tripCompleted'].value_counts()\n",
    "    \n",
    "        try:\n",
    "            binned_trips.append(trips_count[1])\n",
    "        except:\n",
    "            binned_trips.append(0)\n",
    "    \n",
    "    return np.array(binned_trips)"
   ]
  },
  {
   "cell_type": "markdown",
   "metadata": {},
   "source": [
    "#### Plotting Data Functions"
   ]
  },
  {
   "cell_type": "code",
   "execution_count": null,
   "metadata": {},
   "outputs": [],
   "source": [
    "def create_plot(binned_actions, binned_trips, actions, agent):\n",
    "    fig, axes = plt.subplots(2, 1, figsize = (10,10))\n",
    "\n",
    "    x = np.array(range( len(binned_trips) )) * bin_size\n",
    "    y_actions = []\n",
    "    for action in actions:\n",
    "        y_actions.append( binned_actions[action] )\n",
    "\n",
    "    axes[0].stackplot(x, y_actions, labels = action_legends)\n",
    "    axes[0].title.set_text('Actions of agent '+str(agent))\n",
    "    axes[0].legend(loc='upper left')\n",
    "\n",
    "    y_trips = binned_trips\n",
    "    \n",
    "    axes[1].plot(x, y_trips, label ='Successful trips per agent for ' +str(bin_size)+ ' time steps')\n",
    "    axes[1].title.set_text('Successful trips of agent '+str(agent))\n",
    "    axes[1].legend(loc='upper left')\n",
    "    \n",
    "    fig.tight_layout()\n",
    "    fig.savefig(root + folder + '/' +folder+ '_agent_' + str(agent) + '.jpg', bbox_inches='tight', dpi=250)\n",
    "    # fig.savefig(root + folder + '_graphs/agent_' + str(agent) + '.jpg', bbox_inches='tight', dpi=250)"
   ]
  },
  {
   "cell_type": "markdown",
   "metadata": {},
   "source": [
    "## Main"
   ]
  },
  {
   "cell_type": "markdown",
   "metadata": {},
   "source": [
    "- Create every list as numpy arrays - predefine the size of binned values and only replace them\n",
    "- Write x-values as 10k, 100k\n",
    "- Put legends on the right end"
   ]
  },
  {
   "cell_type": "code",
   "execution_count": null,
   "metadata": {},
   "outputs": [],
   "source": [
    "action_legends = [\n",
    "    'Drop Home Pheromone', \n",
    "    'Drop Food Pheromone', \n",
    "    'Follow Home Pheromone', \n",
    "    'Follow Food Pheromone',\n",
    "    'Move Randomly'\n",
    "]"
   ]
  },
  {
   "cell_type": "code",
   "execution_count": null,
   "metadata": {},
   "outputs": [],
   "source": [
    "root = '../data/'\n",
    "folders = os.listdir(root)\n",
    "folder = folders[-1]\n",
    "folder_path = root + folder + '/'"
   ]
  },
  {
   "cell_type": "code",
   "execution_count": null,
   "metadata": {},
   "outputs": [],
   "source": [
    "# os.mkdir(root+folder+'_graphs')"
   ]
  },
  {
   "cell_type": "code",
   "execution_count": null,
   "metadata": {},
   "outputs": [],
   "source": [
    "simulation_data = {}\n",
    "simulation_data['params'] = read_params_data(folder_path)"
   ]
  },
  {
   "cell_type": "code",
   "execution_count": null,
   "metadata": {},
   "outputs": [],
   "source": [
    "bin_size = 5000\n",
    "antCount = simulation_data['params']['antCount']\n",
    "actions = simulation_data['params']['actions']\n",
    "stepsCount = simulation_data['params']['stepsCount']\n",
    "num_bins = math.ceil(stepsCount / bin_size)"
   ]
  },
  {
   "cell_type": "markdown",
   "metadata": {},
   "source": [
    "#### Read Data"
   ]
  },
  {
   "cell_type": "code",
   "execution_count": null,
   "metadata": {},
   "outputs": [],
   "source": [
    "simulation_data['agents'] = read_agents_data(folder_path, antCount)"
   ]
  },
  {
   "cell_type": "markdown",
   "metadata": {},
   "source": [
    "#### Bin Data"
   ]
  },
  {
   "cell_type": "code",
   "execution_count": null,
   "metadata": {},
   "outputs": [],
   "source": [
    "simulation_data['binned_actions'] = {}\n",
    "simulation_data['binned_trips'] = {}\n",
    "simulation_data['binned_epsilon'] = {}\n",
    "\n",
    "for ant in range(1, antCount+1):\n",
    "    simulation_data['binned_actions'][ant] = create_binned_actions(simulation_data['agents'][ant], actions, bin_size, num_bins)\n",
    "    simulation_data['binned_trips'][ant] = create_binned_trips(simulation_data['agents'][ant], bin_size, num_bins)"
   ]
  },
  {
   "cell_type": "code",
   "execution_count": null,
   "metadata": {},
   "outputs": [],
   "source": [
    "simulation_data['total_binned_actions'] = {}\n",
    "\n",
    "for action in actions:\n",
    "    simulation_data['total_binned_actions'][action] = np.zeros(num_bins)\n",
    "\n",
    "simulation_data['total_binned_trips'] = np.zeros(num_bins)"
   ]
  },
  {
   "cell_type": "code",
   "execution_count": null,
   "metadata": {},
   "outputs": [],
   "source": [
    "for ant in range(1, antCount+1):\n",
    "    for action in actions:\n",
    "        simulation_data['total_binned_actions'][action] += simulation_data['binned_actions'][ant][action]\n",
    "        simulation_data['total_binned_trips'] += simulation_data['binned_trips'][ant]"
   ]
  },
  {
   "cell_type": "markdown",
   "metadata": {},
   "source": [
    "#### Plot Data"
   ]
  },
  {
   "cell_type": "code",
   "execution_count": null,
   "metadata": {},
   "outputs": [],
   "source": [
    "for ant in range(1, antCount+1):\n",
    "    create_plot(\n",
    "        simulation_data['binned_actions'][ant], \n",
    "        simulation_data['binned_trips'][ant], \n",
    "        actions, \n",
    "        ant\n",
    "    )"
   ]
  },
  {
   "cell_type": "code",
   "execution_count": null,
   "metadata": {},
   "outputs": [],
   "source": [
    "create_plot(\n",
    "    simulation_data['total_binned_actions'], \n",
    "    simulation_data['total_binned_trips'], \n",
    "#     simulation_data['total_binned_epsilon'], \n",
    "    actions, \n",
    "    'total'\n",
    ")"
   ]
  },
  {
   "cell_type": "markdown",
   "metadata": {},
   "source": [
    "#### Debugging"
   ]
  },
  {
   "cell_type": "code",
   "execution_count": null,
   "metadata": {},
   "outputs": [],
   "source": [
    "a = np.zeros([2,3])\n",
    "a+1"
   ]
  }
 ],
 "metadata": {
  "kernelspec": {
   "display_name": "Python 3",
   "language": "python",
   "name": "python3"
  },
  "language_info": {
   "codemirror_mode": {
    "name": "ipython",
    "version": 3
   },
   "file_extension": ".py",
   "mimetype": "text/x-python",
   "name": "python",
   "nbconvert_exporter": "python",
   "pygments_lexer": "ipython3",
   "version": "3.7.3"
  }
 },
 "nbformat": 4,
 "nbformat_minor": 2
}
