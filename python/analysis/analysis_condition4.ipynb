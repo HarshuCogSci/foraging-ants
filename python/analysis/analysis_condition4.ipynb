{
 "cells": [
  {
   "cell_type": "code",
   "execution_count": null,
   "metadata": {},
   "outputs": [],
   "source": [
    "import os\n",
    "import pandas as pd\n",
    "import json\n",
    "import numpy as np\n",
    "import matplotlib.pyplot as plt\n",
    "import math\n",
    "from IPython.display import clear_output\n",
    "import seaborn as sns\n",
    "import math\n",
    "from collections import Counter\n",
    "from scipy import stats"
   ]
  },
  {
   "cell_type": "markdown",
   "metadata": {},
   "source": [
    "#### Variables"
   ]
  },
  {
   "cell_type": "code",
   "execution_count": null,
   "metadata": {},
   "outputs": [],
   "source": [
    "action_legends = [\n",
    "    'Drop Home Pheromone', \n",
    "    'Drop Food Pheromone', \n",
    "    'Follow Home Pheromone', \n",
    "    'Follow Food Pheromone',\n",
    "    'Move Randomly'\n",
    "]"
   ]
  },
  {
   "cell_type": "code",
   "execution_count": null,
   "metadata": {},
   "outputs": [],
   "source": [
    "root = '../data/Condition_4/'\n",
    "folders = os.listdir(root)\n",
    "\n",
    "index = 18\n",
    "\n",
    "folder = folders[index]\n",
    "folder_path = root + folder + '/'"
   ]
  },
  {
   "cell_type": "code",
   "execution_count": null,
   "metadata": {},
   "outputs": [],
   "source": [
    "simulation_data = {}"
   ]
  },
  {
   "cell_type": "markdown",
   "metadata": {},
   "source": [
    "#### Read Simulation Parameters"
   ]
  },
  {
   "cell_type": "code",
   "execution_count": null,
   "metadata": {},
   "outputs": [],
   "source": [
    "def read_params_data(folder_path):\n",
    "    file_path = folder_path + 'params.json'\n",
    "    with open(file_path) as readFile:\n",
    "        return json.load(readFile)"
   ]
  },
  {
   "cell_type": "code",
   "execution_count": null,
   "metadata": {},
   "outputs": [],
   "source": [
    "simulation_data['params'] = read_params_data(folder_path)"
   ]
  },
  {
   "cell_type": "code",
   "execution_count": null,
   "metadata": {},
   "outputs": [],
   "source": [
    "antCount = simulation_data['params']['antCount']\n",
    "actions = simulation_data['params']['actions']\n",
    "stepsCount = simulation_data['params']['stepsCount']\n",
    "\n",
    "# bin_size = 1000\n",
    "# num_bins = math.ceil(stepsCount / bin_size)\n",
    "\n",
    "num_bins = 500\n",
    "bin_size = math.ceil(stepsCount / num_bins)"
   ]
  },
  {
   "cell_type": "markdown",
   "metadata": {},
   "source": [
    "#### Read Agents Data"
   ]
  },
  {
   "cell_type": "code",
   "execution_count": null,
   "metadata": {},
   "outputs": [],
   "source": [
    "def read_agents_data(folder_path, num_agents):\n",
    "    agents_data = {}\n",
    "    for ant in range(1, num_agents+1):\n",
    "        agents_data[ant] = pd.read_pickle(folder_path + 'agent_' + str(ant) + '.pkl')    \n",
    "    return agents_data"
   ]
  },
  {
   "cell_type": "code",
   "execution_count": null,
   "metadata": {},
   "outputs": [],
   "source": [
    "simulation_data['agents'] = read_agents_data(folder_path, antCount)"
   ]
  },
  {
   "cell_type": "markdown",
   "metadata": {},
   "source": [
    "#### Bin Data"
   ]
  },
  {
   "cell_type": "code",
   "execution_count": null,
   "metadata": {},
   "outputs": [],
   "source": [
    "def generate_chunks(seq, size):\n",
    "    for pos in range(0, len(seq), size):\n",
    "        yield seq.iloc[pos:pos+size]"
   ]
  },
  {
   "cell_type": "code",
   "execution_count": null,
   "metadata": {},
   "outputs": [],
   "source": [
    "def create_binned_actions(agent_df, actions, bin_size, num_bins):\n",
    "    actions_df = agent_df.filter(['action'])\n",
    "\n",
    "    binned_actions = {}\n",
    "    for i in actions:\n",
    "        binned_actions[i] = []\n",
    "    \n",
    "    for chunk in generate_chunks(actions_df, bin_size):\n",
    "        action_count = chunk['action'].value_counts()\n",
    "    \n",
    "        for action in actions:\n",
    "            try:\n",
    "                binned_actions[action].append(action_count[action])\n",
    "            except:\n",
    "                binned_actions[action].append(0)\n",
    "    \n",
    "    for action in actions:\n",
    "        binned_actions[i] = np.array(binned_actions[i])\n",
    "    \n",
    "    return binned_actions"
   ]
  },
  {
   "cell_type": "code",
   "execution_count": null,
   "metadata": {},
   "outputs": [],
   "source": [
    "def create_binned_trips(agent_df, bin_size, num_bins):\n",
    "    trips_df = agent_df.filter(['tripCompleted'])\n",
    "    \n",
    "    binned_trips = []\n",
    "\n",
    "    for chunk in generate_chunks(trips_df, bin_size):\n",
    "        trips_count = chunk['tripCompleted'].value_counts()\n",
    "    \n",
    "        try:\n",
    "            binned_trips.append(trips_count[1])\n",
    "        except:\n",
    "            binned_trips.append(0)\n",
    "    \n",
    "    return np.array(binned_trips)"
   ]
  },
  {
   "cell_type": "code",
   "execution_count": null,
   "metadata": {},
   "outputs": [],
   "source": [
    "def create_binned_epsilon(agent_df, bin_size, num_bins):\n",
    "    epsilon_df = agent_df.filter(['epsilon'])\n",
    "    \n",
    "    binned_epsilon = []\n",
    "\n",
    "    for chunk in generate_chunks(epsilon_df, bin_size):\n",
    "        epsilon_value = chunk.iloc[int(0)]['epsilon']\n",
    "        binned_epsilon.append(epsilon_value)\n",
    "\n",
    "    return np.array(binned_epsilon)"
   ]
  },
  {
   "cell_type": "code",
   "execution_count": null,
   "metadata": {},
   "outputs": [],
   "source": [
    "simulation_data['binned_actions'] = {}\n",
    "simulation_data['binned_trips'] = {}\n",
    "simulation_data['binned_epsilon'] = {}\n",
    "\n",
    "for ant in range(1, antCount+1):\n",
    "    simulation_data['binned_actions'][ant] = create_binned_actions(simulation_data['agents'][ant], actions, bin_size, num_bins)\n",
    "    simulation_data['binned_trips'][ant] = create_binned_trips(simulation_data['agents'][ant], bin_size, num_bins)\n",
    "    simulation_data['binned_epsilon'][ant] = create_binned_epsilon(simulation_data['agents'][ant], bin_size, num_bins)"
   ]
  },
  {
   "cell_type": "code",
   "execution_count": null,
   "metadata": {},
   "outputs": [],
   "source": [
    "simulation_data['total_binned_actions'] = {}\n",
    "\n",
    "for action in actions:\n",
    "    simulation_data['total_binned_actions'][action] = np.zeros(num_bins)\n",
    "\n",
    "simulation_data['total_binned_trips'] = np.zeros(num_bins)\n",
    "simulation_data['total_binned_epsilon'] = simulation_data['binned_epsilon'][1]"
   ]
  },
  {
   "cell_type": "code",
   "execution_count": null,
   "metadata": {},
   "outputs": [],
   "source": [
    "for ant in range(1, antCount+1):\n",
    "    for action in actions:\n",
    "        simulation_data['total_binned_actions'][action] += simulation_data['binned_actions'][ant][action]\n",
    "        simulation_data['total_binned_trips'] += simulation_data['binned_trips'][ant]"
   ]
  },
  {
   "cell_type": "code",
   "execution_count": null,
   "metadata": {},
   "outputs": [],
   "source": [
    "simulation_data['params']['version']"
   ]
  },
  {
   "cell_type": "code",
   "execution_count": null,
   "metadata": {},
   "outputs": [],
   "source": [
    "print('Total food collected = ' + str(np.sum(simulation_data['total_binned_trips'])))\n",
    "print('Mean food collected = ' + str(np.mean(simulation_data['total_binned_trips'])))\n",
    "print('Median food collected = ' + str(np.median(simulation_data['total_binned_trips'])))"
   ]
  },
  {
   "cell_type": "markdown",
   "metadata": {},
   "source": [
    "#### Pearson Correlation Coeffecient - Actions and Trips"
   ]
  },
  {
   "cell_type": "code",
   "execution_count": null,
   "metadata": {},
   "outputs": [],
   "source": [
    "simulation_data['pcc'] = np.zeros((6,6))\n",
    "\n",
    "for i in range(5):\n",
    "    for j in range(5):\n",
    "        if(i == j): continue\n",
    "        a = simulation_data['total_binned_actions'][i]\n",
    "        b = simulation_data['total_binned_actions'][j]\n",
    "        rho = stats.pearsonr(a, b)[0]\n",
    "        simulation_data['pcc'][i,j] = rho\n",
    "        \n",
    "for i in range(5):\n",
    "    a = simulation_data['total_binned_actions'][i]\n",
    "    b = simulation_data['total_binned_trips']\n",
    "    rho = stats.pearsonr(a, b)[0]\n",
    "    simulation_data['pcc'][i,5] = rho\n",
    "    simulation_data['pcc'][5,i] = rho"
   ]
  },
  {
   "cell_type": "markdown",
   "metadata": {},
   "source": [
    "#### Transition Matrix - Action to Action"
   ]
  },
  {
   "cell_type": "code",
   "execution_count": null,
   "metadata": {},
   "outputs": [],
   "source": [
    "def caluculate_action_TM(actions):\n",
    "    a = actions\n",
    "    b = np.zeros((5,5), dtype='int32')\n",
    "\n",
    "    for i in range(len(a)-1):\n",
    "        if(a[i] == -1 or a[i+1] == -1): continue\n",
    "        b[a[i]][a[i+1]] += 1\n",
    "    \n",
    "    return b"
   ]
  },
  {
   "cell_type": "code",
   "execution_count": null,
   "metadata": {},
   "outputs": [],
   "source": [
    "simulation_data['action_TM'] = {}\n",
    "for ant in range(1, antCount+1):\n",
    "    actions_list = simulation_data['agents'][ant].loc[:, 'action'].tolist()\n",
    "    simulation_data['action_TM'][ant] =  caluculate_action_TM(actions_list)\n",
    "\n",
    "simulation_data['action_TM'][1]\n",
    "\n",
    "simulation_data['action_TM']['total'] = simulation_data['action_TM'][1]\n",
    "for ant in range(2, antCount+1):\n",
    "    simulation_data['action_TM']['total'] = np.add(simulation_data['action_TM']['total'], simulation_data['action_TM'][ant])"
   ]
  },
  {
   "cell_type": "markdown",
   "metadata": {},
   "source": [
    "#### Transition Matrix - State to Action"
   ]
  },
  {
   "cell_type": "code",
   "execution_count": null,
   "metadata": {},
   "outputs": [],
   "source": [
    "def caluculate__state_action_TM(states, actions):\n",
    "    a = actions\n",
    "    s = states\n",
    "    size = len(a)\n",
    "    \n",
    "    tm = np.zeros((16, 5), dtype = 'int32')\n",
    "    for i in range(size):\n",
    "        if(s[i] == None or a[i] == -1): continue\n",
    "        idx = s[i][0]*4 + s[i][1]\n",
    "        tm[idx][a[i]] += 1\n",
    "\n",
    "    return tm"
   ]
  },
  {
   "cell_type": "code",
   "execution_count": null,
   "metadata": {},
   "outputs": [],
   "source": [
    "simulation_data['state_action_TM'] = {}\n",
    "\n",
    "for ant in range(1, antCount+1):\n",
    "    actions_list = simulation_data['agents'][ant].loc[:, 'action'].tolist()\n",
    "    states_list = simulation_data['agents'][ant].loc[:, 'state'].tolist()\n",
    "    simulation_data['state_action_TM'][ant] =  caluculate__state_action_TM(states_list, actions_list)\n",
    "\n",
    "simulation_data['state_action_TM'][1]\n",
    "\n",
    "simulation_data['state_action_TM']['total'] = simulation_data['state_action_TM'][1]\n",
    "for ant in range(2, antCount+1):\n",
    "    simulation_data['state_action_TM']['total'] = np.add(simulation_data['state_action_TM']['total'], simulation_data['state_action_TM'][ant])"
   ]
  },
  {
   "cell_type": "markdown",
   "metadata": {},
   "source": [
    "#### Transition Matrix - State to State"
   ]
  },
  {
   "cell_type": "code",
   "execution_count": null,
   "metadata": {},
   "outputs": [],
   "source": [
    "def get_state_TM(states):\n",
    "    s = states\n",
    "    size = len(s)\n",
    "    \n",
    "    tm = np.zeros((16, 16), dtype = 'int32')\n",
    "    for i in range(size-1):\n",
    "        if(s[i] == None or s[i+1] == None): continue\n",
    "        idx = s[i][0]*4 + s[i][1]\n",
    "        idx_next = s[i+1][0]*4 + s[i+1][1]\n",
    "        tm[idx][idx_next] += 1\n",
    "\n",
    "    return tm"
   ]
  },
  {
   "cell_type": "code",
   "execution_count": null,
   "metadata": {},
   "outputs": [],
   "source": [
    "simulation_data['state_TM'] = {}\n",
    "\n",
    "for ant in range(1, antCount+1):\n",
    "    states_list = simulation_data['agents'][ant].loc[:, 'state'].tolist()\n",
    "    simulation_data['state_TM'][ant] =  get_state_TM(states_list)\n",
    "\n",
    "simulation_data['state_TM']['total'] = simulation_data['state_TM'][1]\n",
    "for ant in range(2, antCount+1):\n",
    "    simulation_data['state_TM']['total'] = np.add(simulation_data['state_TM']['total'], simulation_data['state_TM'][ant])"
   ]
  },
  {
   "cell_type": "markdown",
   "metadata": {},
   "source": [
    "### Plotting"
   ]
  },
  {
   "cell_type": "code",
   "execution_count": null,
   "metadata": {},
   "outputs": [],
   "source": [
    "binned_actions = simulation_data['total_binned_actions']\n",
    "binned_trips = simulation_data['total_binned_trips']\n",
    "\n",
    "total_actions = np.zeros(len(actions))\n",
    "for action in actions:\n",
    "    total_actions[action] = np.sum(binned_actions[action])"
   ]
  },
  {
   "cell_type": "code",
   "execution_count": null,
   "metadata": {},
   "outputs": [],
   "source": [
    "################################################################\n",
    "# Actions and Trips Stacked Plot\n",
    "\n",
    "fig, axes = plt.subplots(2, 1, figsize = (15, 10))\n",
    "\n",
    "x = np.array(range( len(binned_trips) )) * bin_size\n",
    "y_actions = []\n",
    "for action in actions:\n",
    "    y_actions.append( binned_actions[action] )\n",
    "\n",
    "axes[0].stackplot(x, y_actions, labels = action_legends)\n",
    "# axes[0].title.set_text('Actions')\n",
    "axes[0].legend(loc='upper left')\n",
    "\n",
    "y_trips = binned_trips\n",
    "\n",
    "axes[1].plot(x, y_trips, label ='Successful trips per agent for ' +str(bin_size)+ ' time steps')\n",
    "# axes[1].title.set_text('Successful trip')\n",
    "axes[1].legend(loc='upper left')\n",
    "\n",
    "fig.suptitle('Actions and Trips across all agents')\n",
    "\n",
    "fig.tight_layout()\n",
    "fig.savefig(root + folder + '/' +folder+ '_actions_trips.jpg', bbox_inches='tight', dpi=250)"
   ]
  },
  {
   "cell_type": "code",
   "execution_count": null,
   "metadata": {},
   "outputs": [],
   "source": [
    "################################################################\n",
    "# Histogram of trips\n",
    "\n",
    "plt.figure(figsize=(10,5))\n",
    "\n",
    "temp = simulation_data['total_binned_trips']\n",
    "sns_plot = sns.histplot(temp)\n",
    "plt.title('Histogram of trips across all agents')\n",
    "\n",
    "plt.savefig(root + folder + '/' +folder+ '_histogram_trips.jpg', bbox_inches='tight', dpi=250)"
   ]
  },
  {
   "cell_type": "code",
   "execution_count": null,
   "metadata": {},
   "outputs": [],
   "source": [
    "################################################################\n",
    "# Bar plot of number of actions\n",
    "\n",
    "fig, ax = plt.subplots(figsize=(15,5))\n",
    "\n",
    "ax.bar(x = action_legends, height = total_actions)\n",
    "ax.set_title('Number of actions across all agents')\n",
    "\n",
    "fig.tight_layout()\n",
    "fig.savefig(root + folder + '/' +folder+ '_action_count.jpg', bbox_inches='tight', dpi=250)"
   ]
  },
  {
   "cell_type": "code",
   "execution_count": null,
   "metadata": {},
   "outputs": [],
   "source": [
    "states_count = {}\n",
    "\n",
    "for i in range(4):\n",
    "    for j in range(4):\n",
    "        states_count[(i,j)] = 0\n",
    "\n",
    "for ant in range(1, antCount+1):\n",
    "    d = simulation_data['agents'][ant]['state'].value_counts()\n",
    "    for i in range(len(d.index)):\n",
    "        states_count[ d.index[i] ] += d[i]"
   ]
  },
  {
   "cell_type": "code",
   "execution_count": null,
   "metadata": {},
   "outputs": [],
   "source": [
    "################################################################\n",
    "# Bar plot of number of states\n",
    "\n",
    "fig, ax = plt.subplots(figsize=(15,5))\n",
    "\n",
    "labels = [str((i, j)) for i in range(4) for j in range(4)]\n",
    "\n",
    "ax.bar(x = labels, height = states_count.values())\n",
    "ax.set_title('Number of states across all agents')\n",
    "\n",
    "fig.tight_layout()\n",
    "fig.savefig(root + folder + '/' +folder+ '_states_count.jpg', bbox_inches='tight', dpi=250)"
   ]
  },
  {
   "cell_type": "code",
   "execution_count": null,
   "metadata": {},
   "outputs": [],
   "source": [
    "################################################################\n",
    "# Correlations between actions and trips\n",
    "\n",
    "corr = simulation_data['pcc']\n",
    "mask = np.zeros_like(corr)\n",
    "mask[np.triu_indices_from(mask)] = True\n",
    "\n",
    "labels = [action_legends[i] for i in range(5)]\n",
    "labels.append('trips')\n",
    "\n",
    "with sns.axes_style(\"dark\"):\n",
    "    f, ax = plt.subplots(figsize=(7, 5))\n",
    "    ax = sns.heatmap(corr, cmap=\"YlGnBu\", mask=mask, vmax=.3, square=True, annot=True, yticklabels=labels, xticklabels=labels)\n",
    "\n",
    "plt.title('Correlation Coeffecients across all agents')\n",
    "plt.savefig(root + folder + '/' +folder+ '_actions_trips_correlation.jpg', bbox_inches='tight', dpi=250)"
   ]
  },
  {
   "cell_type": "code",
   "execution_count": null,
   "metadata": {},
   "outputs": [],
   "source": [
    "################################################################\n",
    "# Transition Matrix Actions and Trips\n",
    "\n",
    "plt.figure(figsize=(10,5))\n",
    "\n",
    "temp = simulation_data['action_TM']['total']\n",
    "sns_plot = sns.heatmap(temp, cmap=\"YlGnBu\", annot=True, fmt=\"d\", xticklabels=action_legends, yticklabels=action_legends)\n",
    "plt.title('Transition Matrix for Actions across all agents')\n",
    "\n",
    "plt.savefig(root + folder + '/' +folder+ '_actions_TM.jpg', bbox_inches='tight', dpi=250)"
   ]
  },
  {
   "cell_type": "code",
   "execution_count": null,
   "metadata": {},
   "outputs": [],
   "source": [
    "################################################################\n",
    "# State Action count\n",
    "\n",
    "temp = simulation_data['state_action_TM']['total']\n",
    "\n",
    "labels = []\n",
    "for i in range(4):\n",
    "    for j in range(4):\n",
    "        labels.append((i,j))\n",
    "\n",
    "plt.figure(figsize=(10,15))\n",
    "sns_plot = sns.heatmap(temp, cmap=\"YlGnBu\", annot=True, fmt=\"d\", yticklabels=labels, xticklabels=action_legends)\n",
    "\n",
    "plt.title('State Action Count Across all agents')\n",
    "plt.savefig(root + folder + '/' +folder+ '_state_actions_TM.jpg', bbox_inches='tight', dpi=250)"
   ]
  },
  {
   "cell_type": "code",
   "execution_count": null,
   "metadata": {},
   "outputs": [],
   "source": [
    "################################################################\n",
    "# Transition Matrix States\n",
    "\n",
    "temp = simulation_data['state_TM']['total']\n",
    "\n",
    "labels = []\n",
    "for i in range(4):\n",
    "    for j in range(4):\n",
    "        labels.append((i,j))\n",
    "\n",
    "plt.figure(figsize=(20,15))\n",
    "sns_plot = sns.heatmap(temp, cmap=\"YlGnBu\", annot=True, fmt=\"d\", yticklabels=labels, xticklabels=labels)\n",
    "\n",
    "plt.title('Transition Matrix States across all agents')\n",
    "plt.savefig(root + folder + '/' +folder+ '_state_TM.jpg', bbox_inches='tight', dpi=250)"
   ]
  },
  {
   "cell_type": "code",
   "execution_count": null,
   "metadata": {},
   "outputs": [],
   "source": [
    "################################################################\n",
    "# Actions and Trips Pair Plot\n",
    "\n",
    "df = pd.DataFrame({\n",
    "    'trips': simulation_data['total_binned_trips'],\n",
    "    'Drop Home Pheromone': simulation_data['total_binned_actions'][0],\n",
    "    'Drop Food Pheromone': simulation_data['total_binned_actions'][1],\n",
    "    'Follow Home Pheromone': simulation_data['total_binned_actions'][2],\n",
    "    'Follow Food Pheromone': simulation_data['total_binned_actions'][3],\n",
    "    'Move Randomly': simulation_data['total_binned_actions'][4],\n",
    "})\n",
    "\n",
    "sns_plot = sns.pairplot(df, corner=False, kind='kde')\n",
    "plt.title('pair Plot actions and trips across all agents')\n",
    "plt.savefig(root + folder + '/' +folder+ '_pairplot.jpg', bbox_inches='tight', dpi=250)"
   ]
  }
 ],
 "metadata": {
  "kernelspec": {
   "display_name": "Python 3",
   "language": "python",
   "name": "python3"
  },
  "language_info": {
   "codemirror_mode": {
    "name": "ipython",
    "version": 3
   },
   "file_extension": ".py",
   "mimetype": "text/x-python",
   "name": "python",
   "nbconvert_exporter": "python",
   "pygments_lexer": "ipython3",
   "version": "3.7.9"
  }
 },
 "nbformat": 4,
 "nbformat_minor": 4
}
