{
 "cells": [
  {
   "cell_type": "code",
   "execution_count": 14,
   "metadata": {},
   "outputs": [],
   "source": [
    "import pandas as pd\n",
    "import json\n",
    "import os\n",
    "from flask import jsonify"
   ]
  },
  {
   "cell_type": "code",
   "execution_count": 3,
   "metadata": {},
   "outputs": [],
   "source": [
    "root = '../data/'\n",
    "folders = os.listdir(root)\n",
    "folder = folders[len(folders) - 1]"
   ]
  },
  {
   "cell_type": "code",
   "execution_count": 4,
   "metadata": {},
   "outputs": [],
   "source": [
    "def read_params_file():\n",
    "    with open('../data/' +folder+ '/params.json') as readFile:\n",
    "        data = json.load(readFile)\n",
    "        return data"
   ]
  },
  {
   "cell_type": "code",
   "execution_count": 5,
   "metadata": {},
   "outputs": [],
   "source": [
    "params = read_params_file()"
   ]
  },
  {
   "cell_type": "code",
   "execution_count": 6,
   "metadata": {},
   "outputs": [
    {
     "data": {
      "text/plain": [
       "'{\"version\": \"pure external case\", \"antCount\": 10, \"stepsCount\": 10, \"dispersionRate\": 0.04, \"evaporationRate\": 0.99, \"actions\": [0, 1, 2, 3, 4], \"posReward\": 10, \"negReward\": -1, \"qEpsilon\": 0.1, \"qLambda\": 0.95, \"qAlpha\": 0.2, \"qDecay\": 0.99, \"qDecayTill\": 0}'"
      ]
     },
     "execution_count": 6,
     "metadata": {},
     "output_type": "execute_result"
    }
   ],
   "source": [
    "json.dumps(params)"
   ]
  },
  {
   "cell_type": "code",
   "execution_count": 7,
   "metadata": {},
   "outputs": [],
   "source": [
    "temp_df = pd.read_pickle(root + folder + '/agent_' + str(1) + '.pkl')"
   ]
  },
  {
   "cell_type": "code",
   "execution_count": 9,
   "metadata": {},
   "outputs": [],
   "source": [
    "temp_df_json = temp_df.to_json(orient = 'split')"
   ]
  },
  {
   "cell_type": "code",
   "execution_count": 13,
   "metadata": {},
   "outputs": [
    {
     "data": {
      "text/plain": [
       "'{\"columns\":[\"row\",\"column\",\"dir\",\"state\",\"food\",\"hasFood\",\"action\"],\"index\":[1,2,3,4,5,6,7,8,9,10],\"data\":[[17,17,6,[0,0],0,0,3],[16,16,7,[0,2],0,0,4],[16,15,6,[2,0],0,0,0],[16,15,6,[3,1],0,0,2],[16,14,6,[1,0],0,0,4],[16,13,6,[0,0],0,0,4],[16,12,6,[0,0],0,0,2],[17,11,5,[0,0],0,0,1],[17,11,5,[0,2],0,0,2],[18,10,5,[0,0],0,0,0]]}'"
      ]
     },
     "execution_count": 13,
     "metadata": {},
     "output_type": "execute_result"
    }
   ],
   "source": [
    "temp_df_json"
   ]
  },
  {
   "cell_type": "code",
   "execution_count": 18,
   "metadata": {},
   "outputs": [],
   "source": [
    "df_dict = temp_df.to_dict('split')"
   ]
  },
  {
   "cell_type": "code",
   "execution_count": 19,
   "metadata": {},
   "outputs": [
    {
     "data": {
      "text/plain": [
       "{'index': [1, 2, 3, 4, 5, 6, 7, 8, 9, 10],\n",
       " 'columns': ['row', 'column', 'dir', 'state', 'food', 'hasFood', 'action'],\n",
       " 'data': [[17, 17, 6, (0, 0), 0, 0, 3],\n",
       "  [16, 16, 7, (0, 2), 0, 0, 4],\n",
       "  [16, 15, 6, (2, 0), 0, 0, 0],\n",
       "  [16, 15, 6, (3, 1), 0, 0, 2],\n",
       "  [16, 14, 6, (1, 0), 0, 0, 4],\n",
       "  [16, 13, 6, (0, 0), 0, 0, 4],\n",
       "  [16, 12, 6, (0, 0), 0, 0, 2],\n",
       "  [17, 11, 5, (0, 0), 0, 0, 1],\n",
       "  [17, 11, 5, (0, 2), 0, 0, 2],\n",
       "  [18, 10, 5, (0, 0), 0, 0, 0]]}"
      ]
     },
     "execution_count": 19,
     "metadata": {},
     "output_type": "execute_result"
    }
   ],
   "source": [
    "df_dict"
   ]
  },
  {
   "cell_type": "code",
   "execution_count": 20,
   "metadata": {},
   "outputs": [
    {
     "data": {
      "text/plain": [
       "'{\"index\": [1, 2, 3, 4, 5, 6, 7, 8, 9, 10], \"columns\": [\"row\", \"column\", \"dir\", \"state\", \"food\", \"hasFood\", \"action\"], \"data\": [[17, 17, 6, [0, 0], 0, 0, 3], [16, 16, 7, [0, 2], 0, 0, 4], [16, 15, 6, [2, 0], 0, 0, 0], [16, 15, 6, [3, 1], 0, 0, 2], [16, 14, 6, [1, 0], 0, 0, 4], [16, 13, 6, [0, 0], 0, 0, 4], [16, 12, 6, [0, 0], 0, 0, 2], [17, 11, 5, [0, 0], 0, 0, 1], [17, 11, 5, [0, 2], 0, 0, 2], [18, 10, 5, [0, 0], 0, 0, 0]]}'"
      ]
     },
     "execution_count": 20,
     "metadata": {},
     "output_type": "execute_result"
    }
   ],
   "source": [
    "json.dumps(df_dict)"
   ]
  }
 ],
 "metadata": {
  "kernelspec": {
   "display_name": "Python 3",
   "language": "python",
   "name": "python3"
  },
  "language_info": {
   "codemirror_mode": {
    "name": "ipython",
    "version": 3
   },
   "file_extension": ".py",
   "mimetype": "text/x-python",
   "name": "python",
   "nbconvert_exporter": "python",
   "pygments_lexer": "ipython3",
   "version": "3.7.3"
  }
 },
 "nbformat": 4,
 "nbformat_minor": 2
}
